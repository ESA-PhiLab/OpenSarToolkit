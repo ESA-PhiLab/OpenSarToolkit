{
 "cells": [
  {
   "cell_type": "markdown",
   "metadata": {},
   "source": [
    "<font face=\"Calibri\" size=\"2\"> <i>Open SAR Toolkit - Tips and Tricks, version 1.0, September 2019. Andreas Vollrath, ESA/ESRIN phi-lab</i>\n",
    "</font>"
   ]
  },
  {
   "cell_type": "markdown",
   "metadata": {},
   "source": [
    "![title](https://raw.githubusercontent.com/ESA-PhiLab/OpenSarToolkit/main/docs/source/_images/header_image.PNG)\n",
    "\n",
    "--------\n",
    "\n",
    "# OST Tips and Tricks\n",
    "\n",
    "This notebook provides code snippets that might be useful for specific OST usage.\n",
    "\n",
    "[![Open In Colab](https://colab.research.google.com/assets/colab-badge.svg)](https://colab.research.google.com/github/ESA-PhiLab/OST_Notebooks/blob/master/Tips%20and%20Tricks.ipynb)\n",
    "\n",
    "--------\n",
    "\n",
    "**Short description**\n",
    "\n",
    "This notebook shows some useful low level functionality of OST, as well as some tricks that can be helpful for certain projects. \n",
    "\n",
    "- **1:** Create a squared AOI from point coordinates\n",
    "- **2:** Create a OST confrom download directory from already downloaded files\n",
    "- **3:** Create the Time of Interest using python's datatime class\n",
    "- **4:** Load an already created inventory file into a OST class instance.\n",
    "- **5:** How to download an offline scene from ESA scihub archive\n",
    "- **6:** Speed up processing by using a ram disk for temporary file storage\n",
    "--------"
   ]
  },
  {
   "cell_type": "markdown",
   "metadata": {},
   "source": [
    "### 1 - Create a squared AOI from Lat/Lon point coordinates\n",
    "\n",
    "In case you do not have a shapefile of your Area Of Interest (AOI), but rather want to define it by Latitude and Longitude, considering a buffer, there is a helper function that let you do exactly this. \n",
    "\n",
    "**Note** that there are 2 buffer options, in meter and in degree, respectively. The buffer in meter does the transform from Lat/Lon into meters based on a equidistant projection. This may result in non-sqaured rectangles towards the poles when plotting on Lat/Lon grid (see second cell)"
   ]
  },
  {
   "cell_type": "code",
   "execution_count": null,
   "metadata": {},
   "outputs": [],
   "source": [
    "# import of of vector helper functions of ost\n",
    "from ost.helpers import vector\n",
    "\n",
    "# define point by lat/lon coordinates\n",
    "lat, lon = \"78\", \"12\"\n",
    "\n",
    "# apply function with buffer in meters\n",
    "wkt1 = vector.latlon_to_wkt(lat, lon, buffer_degree=0.5, envelope=True)\n",
    "wkt2 = vector.latlon_to_wkt(lat, lon, buffer_meter=10000, envelope=True)\n",
    "print(wkt1)\n",
    "print(wkt2)"
   ]
  },
  {
   "cell_type": "code",
   "execution_count": null,
   "metadata": {},
   "outputs": [],
   "source": [
    "# we plot the wkt with geopandas and matplotlib\n",
    "import geopandas as gpd\n",
    "import matplotlib.pyplot as plt\n",
    "\n",
    "# load world borders for background\n",
    "world = gpd.read_file(gpd.datasets.get_path(\"naturalearth_lowres\"))\n",
    "# import aoi as gdf\n",
    "aoi1 = vector.wkt_to_gdf(wkt1)\n",
    "aoi2 = vector.wkt_to_gdf(wkt2)\n",
    "# get bounds of AOI\n",
    "bounds = aoi1.geometry.bounds\n",
    "# get world map as base\n",
    "base = world.plot(color=\"lightgrey\", edgecolor=\"white\")\n",
    "# plot aoi\n",
    "aoi1.plot(ax=base, color=\"None\", edgecolor=\"black\")\n",
    "aoi2.plot(ax=base, color=\"None\", edgecolor=\"red\")\n",
    "\n",
    "# set bounds\n",
    "plt.xlim([bounds.minx.min() - 2, bounds.maxx.max() + 2])\n",
    "plt.ylim([bounds.miny.min() - 2, bounds.maxy.max() + 2])\n",
    "plt.grid(color=\"grey\", linestyle=\"-\", linewidth=0.1)"
   ]
  },
  {
   "cell_type": "markdown",
   "metadata": {},
   "source": [
    "### 2 Create a OST conform download directory\n",
    "\n",
    "OST stores downloaded data in a certain directory hierarchy. In case you already downloaded your Sentinel-1 data by yourself, you can automatically create an OST conform directory, where all scenes found in the input directory, will be moved into its hierarchical structure. "
   ]
  },
  {
   "cell_type": "code",
   "execution_count": null,
   "metadata": {},
   "outputs": [],
   "source": [
    "from ost.s1 import download\n",
    "\n",
    "input_directory = \"/path/to/files/already/downloaded\"\n",
    "output_directory = \"/path/to/OST/download/directory\"\n",
    "download.restore_download_dir(input_directory, output_directory)"
   ]
  },
  {
   "cell_type": "markdown",
   "metadata": {},
   "source": [
    "\n",
    "### 3 Create the Time of Interest using python's datetime class\n",
    "\n",
    "Sometimes it is wanted to create dynamic timestamps for the defintion of time of interest. Here we show python's datetime library is used in combination with the OST format needed for class instantion. "
   ]
  },
  {
   "cell_type": "markdown",
   "metadata": {},
   "source": [
    "#### 3.1. Last 30 days from today onwards.\n",
    "\n",
    "**Note**, we do not need to set an end date, since this is by default today."
   ]
  },
  {
   "cell_type": "code",
   "execution_count": null,
   "metadata": {},
   "outputs": [],
   "source": [
    "from datetime import datetime, timedelta\n",
    "\n",
    "start_date = (datetime.today() - timedelta(days=30)).strftime(\"%Y-%m-%d\")\n",
    "print(start_date)"
   ]
  },
  {
   "cell_type": "markdown",
   "metadata": {},
   "source": [
    "#### 3.2. Target day (create date range around a certain date)"
   ]
  },
  {
   "cell_type": "code",
   "execution_count": null,
   "metadata": {},
   "outputs": [],
   "source": [
    "# we set only the start date to today - 30 days\n",
    "target_day = \"2018-11-28\"\n",
    "delta_days = 60\n",
    "\n",
    "# we set start and end 60 days before, repsectively after event\n",
    "date = datetime.strptime(target_day, \"%Y-%m-%d\")\n",
    "delta = timedelta(days=delta_days)\n",
    "start = (date - delta).strftime(\"%Y-%m-%d\")\n",
    "end = (date + delta).strftime(\"%Y-%m-%d\")\n",
    "\n",
    "print(start, end)"
   ]
  },
  {
   "cell_type": "markdown",
   "metadata": {},
   "source": [
    "### 4 Load an already created inventory file into a OST class instance. \n",
    "\n",
    "Sometimes you need ot re-initialize the one of the batch processing classes. This results in an empty inventory atttriubte. In order ot skip the search on scihub you can load an already created inventory shapefile and set it as attribute in the following way:"
   ]
  },
  {
   "cell_type": "code",
   "execution_count": null,
   "metadata": {},
   "outputs": [],
   "source": [
    "s1_instance = Sentinel1Batch(args)\n",
    "s1_instance.inventory_file = s1_instance / \"full_inventory.gpkg\"\n",
    "s1_instance.read_inventory()"
   ]
  },
  {
   "cell_type": "markdown",
   "metadata": {},
   "source": [
    "### 5 How to download an offline scene from ESA scihub archive\n",
    "\n",
    "ESA's scihub catalogue features an rolling archive of Sentinel-1 data meaning that older products are offline and need to be produced on demand. OST provides the functionality to do that in a programmatic way."
   ]
  },
  {
   "cell_type": "code",
   "execution_count": null,
   "metadata": {},
   "outputs": [],
   "source": [
    "from ost import Sentinel1_Scene\n",
    "from ost.helpers.scihub import connect\n",
    "\n",
    "# create instance\n",
    "scene = \"S1A_IW_GRDH_1SDV_20141004T230354_20141004T230423_002686_002FFD_062B\"\n",
    "s1 = Sentinel1_Scene(scene)\n",
    "\n",
    "# connection to Scihub\n",
    "opener = connect()\n",
    "# heck online status\n",
    "print(\"The scene's online status is: \", s1.scihub_online_status(opener))"
   ]
  },
  {
   "cell_type": "code",
   "execution_count": null,
   "metadata": {},
   "outputs": [],
   "source": [
    "import sys\n",
    "\n",
    "# trigger production\n",
    "s1.scihub_trigger_production(opener)\n",
    "\n",
    "# let's run a loop until the scene is online\n",
    "while status is False:\n",
    "    sys.sleep(60)  # just to not ask every millisecond, production can take a while\n",
    "    status = s1.scihub_online_status(opener)\n",
    "    print(status)\n",
    "\n",
    "s1.download(\"/path/to/download\")"
   ]
  },
  {
   "cell_type": "markdown",
   "metadata": {},
   "source": [
    "### 6 Speed up processing by using a ram disk for temporary filestorage\n",
    "\n",
    "On UNIX systems it is possible to mount part of your RAM as a hard disk. If you have enough RAM, you can use this as a directory for temporary file storage. Since the RAM is very fast in terms of read/write operations, processing can accelareted quite a bit. \n",
    "\n",
    "**Note** that you need to run those commands on the command line and you will need administrative or superuser privilegues. \n",
    "\n",
    "Here is an example for a 30 GB big ramdisk mounted at /ramdisk:\n",
    "```bash \n",
    "sudo mkdir /ramdisk\n",
    "sudo mount -t tmpfs -o size=30G tmpfs /ramdisk\n",
    "```\n",
    "After that you can set your temp_dir to the mount point as in the following example (adjusting the other keywords for the class initialization of course)"
   ]
  },
  {
   "cell_type": "code",
   "execution_count": null,
   "metadata": {},
   "outputs": [],
   "source": [
    "from ost import Sentinel1Batch\n",
    "\n",
    "project = Sentinel1Batch(\n",
    "    project_dir=\"/your/project/dir\",\n",
    "    aoi=\"your/aoi\",\n",
    "    start=\"2019/01/01\",\n",
    "    end=\"2019-12-31\",\n",
    ")\n",
    "project.config_dict[\"temp_dir\"] = \"/ramdisk\""
   ]
  }
 ],
 "metadata": {
  "kernelspec": {
   "display_name": "Python 3",
   "language": "python",
   "name": "python3"
  },
  "language_info": {
   "codemirror_mode": {
    "name": "ipython",
    "version": 3
   },
   "file_extension": ".py",
   "mimetype": "text/x-python",
   "name": "python",
   "nbconvert_exporter": "python",
   "pygments_lexer": "ipython3",
   "version": "3.8.10"
  },
  "toc": {
   "base_numbering": 1,
   "nav_menu": {},
   "number_sections": false,
   "sideBar": true,
   "skip_h1_title": true,
   "title_cell": "Table of Contents",
   "title_sidebar": "Contents",
   "toc_cell": false,
   "toc_position": {},
   "toc_section_display": true,
   "toc_window_display": true
  }
 },
 "nbformat": 4,
 "nbformat_minor": 4
}
